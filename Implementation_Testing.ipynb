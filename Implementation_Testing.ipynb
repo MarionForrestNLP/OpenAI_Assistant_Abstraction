{
 "cells": [
  {
   "cell_type": "code",
   "execution_count": 1,
   "metadata": {},
   "outputs": [],
   "source": [
    "from openai import OpenAI\n",
    "client = OpenAI(api_key=\"\")"
   ]
  },
  {
   "cell_type": "markdown",
   "metadata": {},
   "source": [
    "## Create an Assistant"
   ]
  },
  {
   "cell_type": "code",
   "execution_count": 2,
   "metadata": {},
   "outputs": [
    {
     "data": {
      "text/plain": [
       "Assistant(id='asst_vOrBX2iBY9FXpS8e1448FuXP', created_at=1730148221, description=None, instructions='You are a simple chat bot.', metadata={}, model='gpt-3.5-turbo-0125', name='Assistant', object='assistant', tools=[FileSearchTool(type='file_search', file_search=FileSearch(max_num_results=None, ranking_options=FileSearchRankingOptions(score_threshold=0.0, ranker='default_2024_08_21')))], response_format='auto', temperature=1.0, tool_resources=ToolResources(code_interpreter=None, file_search=ToolResourcesFileSearch(vector_store_ids=[])), top_p=1.0)"
      ]
     },
     "execution_count": 2,
     "metadata": {},
     "output_type": "execute_result"
    }
   ],
   "source": [
    "from Assistant2 import Assistant_V2\n",
    "from Assistant2 import LanguageModel # Import the LanguageModel enum\n",
    "\n",
    "assistant = Assistant_V2(\n",
    "    client=client,\n",
    "    name=\"Assistant\",\n",
    "    instructionPrompt=\"You are a simple chat bot.\",\n",
    "    languageModel=LanguageModel.GPT_3_5_TURBO\n",
    ")\n",
    "\n",
    "assistant.Retrieve_Assistant()"
   ]
  },
  {
   "cell_type": "markdown",
   "metadata": {},
   "source": [
    "## Modify an Assistant"
   ]
  },
  {
   "cell_type": "code",
   "execution_count": 3,
   "metadata": {},
   "outputs": [
    {
     "name": "stdout",
     "output_type": "stream",
     "text": [
      "Name: Assistant -> New Name\n",
      "\n",
      "Instruction Prompt: You are a simple chat bot. -> New Instruction Prompt\n",
      "\n",
      "Language Model: gpt-3.5-turbo-0125 -> gpt-4o-mini\n"
     ]
    }
   ],
   "source": [
    "nameBefore = assistant.name\n",
    "promptBefore = assistant.instructionPrompt\n",
    "modelBefore = assistant.languageModel.value\n",
    "\n",
    "# Change the name of the assistant\n",
    "assistant.Update_Assistant_Name(\n",
    "    name=\"New Name\"\n",
    ")\n",
    "\n",
    "# Change the instruction prompt of the assistant\n",
    "assistant.Update_Assistant_Instruction_Prompt(\n",
    "    instructionPrompt=\"New Instruction Prompt\"\n",
    ")\n",
    "\n",
    "# Change the language model of the assistant\n",
    "assistant.Update_Assistant_Language_Model(\n",
    "    languageModel=LanguageModel.GPT_4O_MINI\n",
    ")\n",
    "\n",
    "# Display changes\n",
    "print(f\"Name: {nameBefore} -> {assistant.name}\\n\")\n",
    "\n",
    "print(f\"Instruction Prompt: {promptBefore} -> {assistant.instructionPrompt}\\n\")\n",
    "\n",
    "print(f\"Language Model: {modelBefore} -> {assistant.languageModel.value}\")"
   ]
  },
  {
   "cell_type": "markdown",
   "metadata": {},
   "source": [
    "## Create Threads"
   ]
  },
  {
   "cell_type": "code",
   "execution_count": 4,
   "metadata": {},
   "outputs": [
    {
     "name": "stdout",
     "output_type": "stream",
     "text": [
      "Initial Threads\n",
      "Thread One: Thread(id='thread_WceA4oM9sIngf9ErnsT5LVvb', created_at=1730148225, metadata={}, object='thread', tool_resources=ToolResources(code_interpreter=ToolResourcesCodeInterpreter(file_ids=[]), file_search=None))\n",
      "Thread Two: Thread(id='thread_KcfkNr0ZIZLR91eAVfl9lrPG', created_at=1730148225, metadata={}, object='thread', tool_resources=ToolResources(code_interpreter=ToolResourcesCodeInterpreter(file_ids=[]), file_search=None))\n",
      "Thread Three: Thread(id='thread_PbOKdqsIB7VGX6nIx7q0BkfO', created_at=1730148225, metadata={}, object='thread', tool_resources=ToolResources(code_interpreter=ToolResourcesCodeInterpreter(file_ids=[]), file_search=None))\n",
      "\n",
      "After deletion\n",
      "Thread One: Thread(id='thread_WceA4oM9sIngf9ErnsT5LVvb', created_at=1730148225, metadata={}, object='thread', tool_resources=ToolResources(code_interpreter=ToolResourcesCodeInterpreter(file_ids=[]), file_search=None))\n",
      "Thread Three: Thread(id='thread_PbOKdqsIB7VGX6nIx7q0BkfO', created_at=1730148225, metadata={}, object='thread', tool_resources=ToolResources(code_interpreter=ToolResourcesCodeInterpreter(file_ids=[]), file_search=None))\n",
      "\n",
      "After renaming\n",
      "---\n",
      "Budget: Thread(id='thread_WceA4oM9sIngf9ErnsT5LVvb', created_at=1730148225, metadata={}, object='thread', tool_resources=ToolResources(code_interpreter=ToolResourcesCodeInterpreter(file_ids=[]), file_search=None))\n",
      "Investments: Thread(id='thread_PbOKdqsIB7VGX6nIx7q0BkfO', created_at=1730148225, metadata={}, object='thread', tool_resources=ToolResources(code_interpreter=ToolResourcesCodeInterpreter(file_ids=[]), file_search=None))\n",
      "\n"
     ]
    }
   ],
   "source": [
    "def Display_Threads() -> None:\n",
    "    for name, id in assistant.threads.items():\n",
    "        print(f\"{name}: {assistant.Retrieve_Thread(id)}\")\n",
    "    print()\n",
    "\n",
    "# Create threads\n",
    "threadOne = assistant.Create_Thread(\n",
    "    threadName=\"Thread One\"\n",
    ")\n",
    "threadTwo = assistant.Create_Thread(\n",
    "    threadName=\"Thread Two\"\n",
    ")\n",
    "threadThree = assistant.Create_Thread(\n",
    "    threadName=\"Thread Three\"\n",
    ")\n",
    "\n",
    "# Display threads\n",
    "print(\"Initial Threads\")\n",
    "Display_Threads()\n",
    "\n",
    "# Delete a thread\n",
    "assistant.Delete_Thread(\n",
    "    threadName=\"Thread Two\"\n",
    ")\n",
    "\n",
    "# Display threads\n",
    "print(\"After deletion\")\n",
    "Display_Threads()\n",
    "\n",
    "# Change the name of the threads\n",
    "assistant.Update_Thread_Name(\n",
    "    threadName=\"Thread One\",\n",
    "    newThreadName=\"Budget\"\n",
    ")\n",
    "assistant.Update_Thread_Name(\n",
    "    threadName=\"Thread Three\",\n",
    "    newThreadName=\"Investments\"\n",
    ")\n",
    "\n",
    "# Display threads\n",
    "print(\"After renaming\\n---\")\n",
    "Display_Threads()"
   ]
  },
  {
   "cell_type": "markdown",
   "metadata": {},
   "source": [
    "## Static Messages"
   ]
  },
  {
   "cell_type": "code",
   "execution_count": 5,
   "metadata": {},
   "outputs": [
    {
     "name": "stdout",
     "output_type": "stream",
     "text": [
      "User > What are 5 tips for saving money?\n",
      "\n",
      "New Name > Here are five effective tips for saving money:\n",
      "\n",
      "1. **Create a Budget**: Track your income and expenses to understand where your money goes. A monthly budget helps you allocate funds to savings and identify areas where you can cut back.\n",
      "\n",
      "2. **Set Savings Goals**: Define specific, measurable savings goals (e.g., saving for a vacation or an emergency fund). This gives you a clear target to work towards, making it easier to stay motivated.\n",
      "\n",
      "3. **Automate Savings**: Set up automatic transfers from your checking account to your savings account. This \"pay yourself first\" strategy ensures you save before you spend.\n",
      "\n",
      "4. **Cut Unnecessary Expenses**: Review your spending habits and identify non-essential expenses you can reduce or eliminate, such as dining out or subscription services you don't use.\n",
      "\n",
      "5. **Shop Smart**: Look for discounts, use coupons, and compare prices before making purchases. Consider buying generic brands and only shop when you need something, avoiding impulse buys.\n",
      "\n",
      "Implementing these tips can help you build a stronger financial foundation and achieve your savings goals.\n"
     ]
    }
   ],
   "source": [
    "# Take input from the user\n",
    "userInput: str = \"What are 5 tips for saving money?\"\n",
    "\n",
    "# Display the user's message\n",
    "print(f\"User > {userInput}\\n\")\n",
    "\n",
    "# Send the message to the assistant\n",
    "assistant.Create_Message(\n",
    "    threadName=\"Budget\",\n",
    "    textContent=userInput\n",
    ")\n",
    "\n",
    "# Display the assistant's response\n",
    "for message in assistant.Static_Response(threadName=\"Budget\"):\n",
    "    print(f\"{assistant.name} > {message}\")"
   ]
  },
  {
   "cell_type": "markdown",
   "metadata": {},
   "source": [
    "## Streaming Messages"
   ]
  },
  {
   "cell_type": "code",
   "execution_count": 6,
   "metadata": {},
   "outputs": [
    {
     "name": "stdout",
     "output_type": "stream",
     "text": [
      "User > What are 5 tips for investing money?\n",
      "\n",
      "New Name > Here are five tips for investing money effectively:\n",
      "\n",
      "1. **Start Early and Invest Regularly**: The power of compound interest means that the sooner you start investing, the more time your money has to grow. Consider setting up regular contributions to your investment accounts, such as monthly or quarterly investments, to build your portfolio over time.\n",
      "\n",
      "2. **Diversify Your Portfolio**: Don't put all your eggs in one basket. Investing in a mix of asset classes (like stocks, bonds, and real estate) can help reduce risk. Diversification helps mitigate losses in one area with gains in another.\n",
      "\n",
      "3. **Understand Your Risk Tolerance**: Assess how much risk you are willing to take based on your financial situation and goals. Younger investors may opt for riskier investments for potentially higher returns, while those nearing retirement might prefer more stable, lower-risk options.\n",
      "\n",
      "4. **Educate Yourself**: Take time to learn about different investment options, market trends, and investment strategies. Being informed can help you make better decisions and avoid potential pitfalls. Consider reading books, following financial news, or taking investment courses.\n",
      "\n",
      "5. **Be Patient and Avoid Emotional Decisions**: Investing can be volatile, and it's crucial to stay calm during market fluctuations. Stick to your investment strategy and avoid making impulsive decisions based on fear or greed. Remember, investing is typically a long-term endeavor.\n",
      "\n",
      "By following these tips, you can create a stronger foundation for your investment journey.\n"
     ]
    }
   ],
   "source": [
    "# Take input from the user\n",
    "userInput: str = \"What are 5 tips for investing money?\"\n",
    "\n",
    "# Display the user's message\n",
    "print(f\"User > {userInput}\\n\")\n",
    "\n",
    "# Send the message to the assistant\n",
    "userMessage = assistant.Create_Message(\n",
    "    threadName=\"Investments\",\n",
    "    textContent=userInput\n",
    ")\n",
    "\n",
    "# The assistant's response will be streamed in real-time\n",
    "assistant.Stream_Response(\n",
    "    threadName=\"Investments\",\n",
    ")"
   ]
  },
  {
   "cell_type": "markdown",
   "metadata": {},
   "source": [
    "## Custom Stream Behavior"
   ]
  },
  {
   "cell_type": "code",
   "execution_count": 7,
   "metadata": {},
   "outputs": [
    {
     "name": "stdout",
     "output_type": "stream",
     "text": [
      "[Message Start]\n",
      "The S&P 500, or the Standard & Poor's 500, is a stock market index that measures the stock performance of 500 of the largest publicly traded companies in the United States. It is widely regarded as one of the best representations of the overall U.S. stock market and is considered a benchmark for the performance of American equities.\n",
      "\n",
      "Here are some key points about the S&P 500:\n",
      "\n",
      "1. **Composition**: The index includes a diverse range of companies across various sectors, such as technology, healthcare, finance, consumer goods, and energy. The companies in the index are selected based on market capitalization, liquidity, and sector representation.\n",
      "\n",
      "2. **Market Capitalization**: The S&P 500 is a market-capitalization-weighted index, meaning that companies with larger market capitalizations have a greater impact on the index's performance. This means that the stock price movements of larger companies can significantly influence the index's value.\n",
      "\n",
      "3. **Investment Benchmark**: Many investors use the S&P 500 as a benchmark to gauge the performance of their investment portfolios. It is also a popular choice for index funds and exchange-traded funds (ETFs), allowing investors to gain exposure to this broad segment of the U.S. stock market.\n",
      "\n",
      "4. **Historical Performance**: Historically, the S&P 500 has delivered positive returns over the long term, averaging around 10-11% annually, although returns vary significantly in the short term. It's important for investors to consider both the potential for growth and the risks involved.\n",
      "\n",
      "5. **Economic Indicator**: The performance of the S&P 500 is often viewed as an indicator of the overall health of the U.S. economy. Rising stock prices in the index can suggest economic growth, while declines may indicate economic challenges.\n",
      "\n",
      "Overall, the S&P 500 is an essential tool for investors looking to understand the U.S. stock market, track economic performance, and make informed investment decisions.\n",
      "[Message End]\n",
      "\n"
     ]
    }
   ],
   "source": [
    "# Import required libraries\n",
    "from Assistant2 import Stream_Handler\n",
    "from typing_extensions import override\n",
    "\n",
    "# Create a custom stream handler\n",
    "class Custom_Handler(Stream_Handler):\n",
    "    # Implement the super class\n",
    "    def __init__(self):\n",
    "        super().__init__(\n",
    "            client=client,\n",
    "            assistantName=assistant.name\n",
    "        )\n",
    "\n",
    "    @override\n",
    "    def on_text_created(self, text):\n",
    "        # Add a custom message at the start of every streamed response\n",
    "        print(f\"[Message Start]\\n\", end=\"\", flush=True)\n",
    "\n",
    "    @override\n",
    "    def on_text_done(self, text):\n",
    "        # Add a custom message at the end of every streamed response\n",
    "        print(\"\\n[Message End]\", end=\"\\n\", flush=True)\n",
    "\n",
    "# Send a message to the assistant\n",
    "userMessage = assistant.Create_Message(\n",
    "    threadName=\"Investments\",\n",
    "    textContent=\"What is the S&P 500?\"\n",
    ")\n",
    "\n",
    "# The assistant's response will be streamed with custom behaviors\n",
    "assistant.Stream_Response(\n",
    "    threadName=\"Investments\",\n",
    "    streamHandler=Custom_Handler()\n",
    ")"
   ]
  },
  {
   "cell_type": "markdown",
   "metadata": {},
   "source": [
    "## Attaching Files"
   ]
  },
  {
   "cell_type": "code",
   "execution_count": 8,
   "metadata": {},
   "outputs": [
    {
     "name": "stdout",
     "output_type": "stream",
     "text": [
      "\n",
      "New Name > file_search\n",
      "New Name > In the most recent quarter, Microsoft reported a net income of **$88.136 billion** and had a weighted average of **7.469 billion shares outstanding** on a diluted basis【8:4†source】.[0] Example_File_Microsoft_10K.docx\n"
     ]
    }
   ],
   "source": [
    "# Create a Vector Store\n",
    "from Assistant2 import Vector_Store\n",
    "vectorStore = Vector_Store(\n",
    "    client=client,\n",
    "    name=\"Company Reports\",\n",
    "    lifeTime=1\n",
    ")\n",
    "\n",
    "# Add a file to the vector store\n",
    "vectorStore.Add_New_File(\n",
    "    fileName=\"Example File\",\n",
    "    filePath=\"Example_File_Microsoft_10K.docx\"\n",
    ")\n",
    "\n",
    "# Attach the vector store a thread\n",
    "assistant.Link_Vector_Store(\n",
    "    threadName='Investments',\n",
    "    vectorStore=vectorStore\n",
    ")\n",
    "\n",
    "# User message\n",
    "assistant.Create_Message(\n",
    "    threadName='Investments',\n",
    "    textContent=\"What was microsoft's net income and shares outstanding in the most resent quarter?\"\n",
    ")\n",
    "\n",
    "# Stream response\n",
    "assistant.Stream_Response(\n",
    "    threadName='Investments',\n",
    ")"
   ]
  },
  {
   "cell_type": "code",
   "execution_count": 9,
   "metadata": {},
   "outputs": [
    {
     "data": {
      "text/plain": [
       "True"
      ]
     },
     "execution_count": 9,
     "metadata": {},
     "output_type": "execute_result"
    }
   ],
   "source": [
    "# Delete the vector store\n",
    "vectorStore.Delete_All_Files()\n",
    "vectorStore.Delete_Vector_Store()\n",
    "\n",
    "# Delete the assistant\n",
    "assistant.Delete_Assistant()"
   ]
  }
 ],
 "metadata": {
  "kernelspec": {
   "display_name": ".venv",
   "language": "python",
   "name": "python3"
  },
  "language_info": {
   "codemirror_mode": {
    "name": "ipython",
    "version": 3
   },
   "file_extension": ".py",
   "mimetype": "text/x-python",
   "name": "python",
   "nbconvert_exporter": "python",
   "pygments_lexer": "ipython3",
   "version": "3.12.7"
  }
 },
 "nbformat": 4,
 "nbformat_minor": 2
}
