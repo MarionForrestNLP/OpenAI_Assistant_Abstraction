{
 "cells": [
  {
   "cell_type": "markdown",
   "metadata": {},
   "source": [
    "# Requirements\n",
    "\n",
    "```json\n",
    "{\n",
    "    \"openai\": {\n",
    "        \"version\": \"1.53.0 or later\",\n",
    "        \"required\": true\n",
    "    },\n",
    "    \"python-dotenv\": {\n",
    "        \"version\": \"1.0.1 or later\",\n",
    "        \"required\": false\n",
    "    }\n",
    "}\n",
    "```"
   ]
  },
  {
   "cell_type": "code",
   "execution_count": 1,
   "metadata": {},
   "outputs": [
    {
     "name": "stdout",
     "output_type": "stream",
     "text": [
      "Requirement already satisfied: python-dotenv in c:\\users\\marion.forrest\\documents\\projects\\openai_assistant_abstraction\\.venv\\lib\\site-packages (1.0.1)\n",
      "Note: you may need to restart the kernel to use updated packages.\n",
      "Requirement already satisfied: openai in c:\\users\\marion.forrest\\documents\\projects\\openai_assistant_abstraction\\.venv\\lib\\site-packages (1.53.0)Note: you may need to restart the kernel to use updated packages.\n",
      "\n",
      "Requirement already satisfied: anyio<5,>=3.5.0 in c:\\users\\marion.forrest\\documents\\projects\\openai_assistant_abstraction\\.venv\\lib\\site-packages (from openai) (4.6.2.post1)\n",
      "Requirement already satisfied: distro<2,>=1.7.0 in c:\\users\\marion.forrest\\documents\\projects\\openai_assistant_abstraction\\.venv\\lib\\site-packages (from openai) (1.9.0)\n",
      "Requirement already satisfied: httpx<1,>=0.23.0 in c:\\users\\marion.forrest\\documents\\projects\\openai_assistant_abstraction\\.venv\\lib\\site-packages (from openai) (0.27.2)\n",
      "Requirement already satisfied: jiter<1,>=0.4.0 in c:\\users\\marion.forrest\\documents\\projects\\openai_assistant_abstraction\\.venv\\lib\\site-packages (from openai) (0.6.1)\n",
      "Requirement already satisfied: pydantic<3,>=1.9.0 in c:\\users\\marion.forrest\\documents\\projects\\openai_assistant_abstraction\\.venv\\lib\\site-packages (from openai) (2.9.2)\n",
      "Requirement already satisfied: sniffio in c:\\users\\marion.forrest\\documents\\projects\\openai_assistant_abstraction\\.venv\\lib\\site-packages (from openai) (1.3.1)\n",
      "Requirement already satisfied: tqdm>4 in c:\\users\\marion.forrest\\documents\\projects\\openai_assistant_abstraction\\.venv\\lib\\site-packages (from openai) (4.66.5)\n",
      "Requirement already satisfied: typing-extensions<5,>=4.11 in c:\\users\\marion.forrest\\documents\\projects\\openai_assistant_abstraction\\.venv\\lib\\site-packages (from openai) (4.12.2)\n",
      "Requirement already satisfied: idna>=2.8 in c:\\users\\marion.forrest\\documents\\projects\\openai_assistant_abstraction\\.venv\\lib\\site-packages (from anyio<5,>=3.5.0->openai) (3.10)\n",
      "Requirement already satisfied: certifi in c:\\users\\marion.forrest\\documents\\projects\\openai_assistant_abstraction\\.venv\\lib\\site-packages (from httpx<1,>=0.23.0->openai) (2024.8.30)\n",
      "Requirement already satisfied: httpcore==1.* in c:\\users\\marion.forrest\\documents\\projects\\openai_assistant_abstraction\\.venv\\lib\\site-packages (from httpx<1,>=0.23.0->openai) (1.0.6)\n",
      "Requirement already satisfied: h11<0.15,>=0.13 in c:\\users\\marion.forrest\\documents\\projects\\openai_assistant_abstraction\\.venv\\lib\\site-packages (from httpcore==1.*->httpx<1,>=0.23.0->openai) (0.14.0)\n",
      "Requirement already satisfied: annotated-types>=0.6.0 in c:\\users\\marion.forrest\\documents\\projects\\openai_assistant_abstraction\\.venv\\lib\\site-packages (from pydantic<3,>=1.9.0->openai) (0.7.0)\n",
      "Requirement already satisfied: pydantic-core==2.23.4 in c:\\users\\marion.forrest\\documents\\projects\\openai_assistant_abstraction\\.venv\\lib\\site-packages (from pydantic<3,>=1.9.0->openai) (2.23.4)\n",
      "Requirement already satisfied: colorama in c:\\users\\marion.forrest\\documents\\projects\\openai_assistant_abstraction\\.venv\\lib\\site-packages (from tqdm>4->openai) (0.4.6)\n"
     ]
    }
   ],
   "source": [
    "# Install packages\n",
    "%pip install -U python-dotenv\n",
    "%pip install -U openai\n",
    "\n",
    "# Import packages\n",
    "from os import environ # Required only for this example\n",
    "from dotenv import load_dotenv # Required only for this example\n",
    "from openai import OpenAI # Required for this module\n",
    "\n",
    "# Load environment variables\n",
    "load_dotenv()\n",
    "OPENAI_API_KEY = environ[\"OPENAI_API_KEY\"]"
   ]
  },
  {
   "cell_type": "markdown",
   "metadata": {},
   "source": [
    "# Creating an Assistant\n",
    "\n",
    "First and foremost, we must of course initialize and instance of an assistant. To do this, we must import the `Assistant_V2` class and the `Language_Model` enum from the `Assistant2` module.\n",
    "\n",
    "## Language Model\n",
    "\n",
    "This is a enum used to specify the language model used by the assistant. Currently, this module supports the following language models:\n",
    "\n",
    "```json\n",
    "{\n",
    "    \"GPT_3_5_TURBO\": \"gpt-3.5-turbo-0125\",\n",
    "    \"GPT_4O_MINI\": \"gpt-4o-mini\"\n",
    "}\n",
    "```\n",
    "\n",
    "## Assistant Version 2\n",
    "\n",
    "This class is used to create and manage an OpenAI assistant. This class in a rebuild of the original [Assistant class](https://github.com/MarionForrestNLP/OpenAI_Assistant_Abstraction?tab=readme-ov-file#openai-assistant-abstraction) designed to be easier to integrate into your own projects.\n",
    "\n",
    "To create an assistant instance, you must first create a connection to your OpenAI account by calling the `OpenAI` class and passing in your OpenAI API key. Then, you must provide a name, an instruction prompt, and a language model to the `Assistant_V2` constructor. Additionally, you can provide the id of an existing assistant, if you wish to connect to an existing instance.\n",
    "\n",
    "```json\n",
    "{\n",
    "    \"Assistant\": {\n",
    "        \"client\": {\n",
    "            \"type\": \"OpenAI Client (OpenAI)\",\n",
    "            \"required\": true,\n",
    "            \"description\": \"The OpenAI client used to access the assistant and other APIs.\"\n",
    "        },\n",
    "        \"name\": {\n",
    "            \"type\": \"string (str)\",\n",
    "            \"required\": true,\n",
    "            \"description\": \"The name you would like the assistant to be referred to.\"\n",
    "        },\n",
    "        \"instructionPrompt\": {\n",
    "            \"type\": \"string (str)\",\n",
    "            \"required\": true,\n",
    "            \"description\": \"The instruction prompt you would like the assistant to use. Note: this prompt counts towards the assistant's **prompt tokens**. I recommend keeping it concise and definitive.\"\n",
    "        },\n",
    "        \"languageModel\": {\n",
    "            \"type\": \"Language_Model (enum)\",\n",
    "            \"required\": true,\n",
    "            \"description\": \"The language model used by the assistant. Only the Language_Model enum is supported, do not attempt to type a string value directly.\"\n",
    "        },\n",
    "        \"id\": {\n",
    "            \"type\": \"string (str)\",\n",
    "            \"required\": false,\n",
    "            \"description\": \"The id of the assistant you would like to connect to. If not provided, a new assistant will be created. When provided, the only other parameter required is the client.\"\n",
    "        }\n",
    "    }\n",
    "}\n",
    "```\n",
    "\n",
    "### Connecting to an existing assistant\n",
    "```python\n",
    "from Assistant2 import Assistant_V2\n",
    "\n",
    "assistant = Assistant_V2(\n",
    "    client=client,\n",
    "    id=\"ASSISTANT_ID\"\n",
    ")\n",
    "```\n"
   ]
  },
  {
   "cell_type": "code",
   "execution_count": 2,
   "metadata": {},
   "outputs": [
    {
     "name": "stdout",
     "output_type": "stream",
     "text": [
      "id: asst_0skMn0T9azggtYFUMe8s51jd\n",
      "created_at: 1730316236\n",
      "description: None\n",
      "instructions: You are a simple chat bot.\n",
      "metadata: {}\n",
      "model: gpt-3.5-turbo-0125\n",
      "name: SimpleChat\n",
      "object: assistant\n",
      "tools: [{'type': 'file_search', 'file_search': {'ranking_options': {'score_threshold': 0.0, 'ranker': 'default_2024_08_21'}}}]\n",
      "response_format: auto\n",
      "temperature: 1.0\n",
      "tool_resources: {'file_search': {'vector_store_ids': []}}\n",
      "top_p: 1.0\n"
     ]
    }
   ],
   "source": [
    "from Assistant2 import Assistant_V2\n",
    "from Assistant2 import Language_Model\n",
    "\n",
    "client = OpenAI(api_key=OPENAI_API_KEY)\n",
    "\n",
    "assistant = Assistant_V2(\n",
    "    client=client,\n",
    "    name=\"SimpleChat\",\n",
    "    instructionPrompt=\"You are a simple chat bot.\",\n",
    "    languageModel=Language_Model.GPT_3_5_TURBO\n",
    ")\n",
    "\n",
    "for key, value in assistant.Retrieve_Assistant().to_dict().items():\n",
    "    print(f\"{key}: {value}\")"
   ]
  },
  {
   "cell_type": "markdown",
   "metadata": {},
   "source": [
    "# Modifing an Assistant\n",
    "\n",
    "## Changing the name\n",
    "\n",
    "To change the name of the assistant, you must call the `Update_Assistant_Name` method and pass in a string (str) representing the new name of the assistant. This method returns a `bool` indicating whether the update was successful or not.\n",
    "\n",
    "```python\n",
    "def Update_Assistant_Name(name: str) -> bool:\n",
    "    return True if successful else False\n",
    "```\n",
    "\n",
    "## Changing the instruction prompt\n",
    "\n",
    "To change the instruction prompt you will need to call the `Update_Assistant_Instruction_Prompt` method and pass in a string (str) representing the new instruction prompt. This method returns a `bool` indicating whether the update was successful or not.\n",
    "\n",
    "```python\n",
    "def Update_Assistant_Instruction_Prompt(instructionPrompt: str) -> bool:\n",
    "    return True if successful else False\n",
    "```\n",
    "\n",
    "## Changing the language model\n",
    "\n",
    "To change the language model you will need to call the `Update_Assistant_Language_Model` method and pass in a `Language_Model` enum. This method returns a `bool` indicating whether the update was successful or not.\n",
    "\n",
    "\n",
    "```python\n",
    "def Update_Assistant_Language_Model(languageModel: Language_Model) -> bool:\n",
    "    return True if successful else False\n",
    "```"
   ]
  },
  {
   "cell_type": "code",
   "execution_count": 3,
   "metadata": {},
   "outputs": [
    {
     "name": "stdout",
     "output_type": "stream",
     "text": [
      "Name: SimpleChat -> Financial Assistant\n",
      "\n",
      "Instruction Prompt: You are a simple chat bot. -> User a chatbot designed to help users manage their personal finances and investments.\n",
      "\n",
      "Language Model: gpt-3.5-turbo-0125 -> gpt-4o-mini\n"
     ]
    }
   ],
   "source": [
    "nameBefore = assistant.name\n",
    "promptBefore = assistant.instructionPrompt\n",
    "modelBefore = assistant.languageModel.value\n",
    "\n",
    "# Change the name of the assistant\n",
    "assistant.Update_Assistant_Name(\n",
    "    name=\"Financial Assistant\"\n",
    ")\n",
    "\n",
    "# Change the instruction prompt of the assistant\n",
    "assistant.Update_Assistant_Instruction_Prompt(\n",
    "    instructionPrompt=\"You are a chatbot designed to help users manage their personal finances and investments.\"\n",
    ")\n",
    "\n",
    "# Change the language model of the assistant\n",
    "assistant.Update_Assistant_Language_Model(\n",
    "    languageModel=Language_Model.GPT_4O_MINI\n",
    ")\n",
    "\n",
    "# Display changes\n",
    "print(f\"Name: {nameBefore} -> {assistant.name}\\n\")\n",
    "\n",
    "print(f\"Instruction Prompt: {promptBefore} -> {assistant.instructionPrompt}\\n\")\n",
    "\n",
    "print(f\"Language Model: {modelBefore} -> {assistant.languageModel.value}\")"
   ]
  },
  {
   "cell_type": "markdown",
   "metadata": {},
   "source": [
    "# Understanding and using threads\n",
    "\n",
    "## What is a thread?\n",
    "\n",
    "## Why use threads?\n",
    "\n",
    "## C.R.U.D. operations on Threads\n",
    "\n",
    "### Create a thread\n",
    "\n",
    "To create a thread you will need to call the `Create_Thread` method and pass in a string (str) representing the name of the thread. This method returns the id of the new thread if it was created successfully. Otherwise, it will raise an exception.\n",
    "\n",
    "```python\n",
    "def Create_Thread(threadName: str) -> str:\n",
    "    return threadId if successful else raise Thread_Error(Exception)\n",
    "```\n",
    "\n",
    "### Retrieve a thread\n",
    "\n",
    "Retrieving a thread is a simple two step process. Step one is to get the `threads` attribute of the assistant. `threads` is a dictionary that contains the names and ids of all assistant's threads as key, value pairs. Step two to pass the id of the thread you want to retrieve to the `Retrieve_Thread` method. This method returns the [thread](https://platform.openai.com/docs/api-reference/threads/object) if it was retrieved successfully. Otherwise, it will raise an exception.\n",
    "\n",
    "```python\n",
    "# Example thread attribute\n",
    "threads: dict[ str , str ] = {\n",
    "    \"Thread One\": \"THREAD_ONE_ID\",\n",
    "    \"Thread Two\": \"THREAD_TWO_ID\"\n",
    "}\n",
    "\n",
    "def Retrieve_Thread(threadId: str) -> Thread:\n",
    "    return Thread if successful else raise Thread_Error(Exception)\n",
    "```"
   ]
  },
  {
   "cell_type": "code",
   "execution_count": 5,
   "metadata": {},
   "outputs": [
    {
     "name": "stdout",
     "output_type": "stream",
     "text": [
      "Initial Threads\n",
      "Thread One: Thread(id='thread_HL9GcTzgaUr9fxT8xy3fP2Nn', created_at=1730313148, metadata={}, object='thread', tool_resources=ToolResources(code_interpreter=ToolResourcesCodeInterpreter(file_ids=[]), file_search=None))\n",
      "Thread Two: Thread(id='thread_rbpkxeA38u8TCmwhqpYAwHfy', created_at=1730313149, metadata={}, object='thread', tool_resources=ToolResources(code_interpreter=ToolResourcesCodeInterpreter(file_ids=[]), file_search=None))\n",
      "Thread Three: Thread(id='thread_NKgIa2IcLkR1kx2SefAMwLRf', created_at=1730313149, metadata={}, object='thread', tool_resources=ToolResources(code_interpreter=ToolResourcesCodeInterpreter(file_ids=[]), file_search=None))\n",
      "\n",
      "After Deletion\n",
      "Thread One: Thread(id='thread_HL9GcTzgaUr9fxT8xy3fP2Nn', created_at=1730313148, metadata={}, object='thread', tool_resources=ToolResources(code_interpreter=ToolResourcesCodeInterpreter(file_ids=[]), file_search=None))\n",
      "Thread Three: Thread(id='thread_NKgIa2IcLkR1kx2SefAMwLRf', created_at=1730313149, metadata={}, object='thread', tool_resources=ToolResources(code_interpreter=ToolResourcesCodeInterpreter(file_ids=[]), file_search=None))\n",
      "\n",
      "After Renaming\n",
      "Budget: Thread(id='thread_HL9GcTzgaUr9fxT8xy3fP2Nn', created_at=1730313148, metadata={}, object='thread', tool_resources=ToolResources(code_interpreter=ToolResourcesCodeInterpreter(file_ids=[]), file_search=None))\n",
      "Investments: Thread(id='thread_NKgIa2IcLkR1kx2SefAMwLRf', created_at=1730313149, metadata={}, object='thread', tool_resources=ToolResources(code_interpreter=ToolResourcesCodeInterpreter(file_ids=[]), file_search=None))\n",
      "\n"
     ]
    }
   ],
   "source": [
    "def Display_Threads() -> None:\n",
    "    for name, id in assistant.threads.items():\n",
    "        print(f\"{name}: {assistant.Retrieve_Thread(id)}\")\n",
    "    print()\n",
    "\n",
    "# Create threads\n",
    "threadOne = assistant.Create_Thread(\n",
    "    threadName=\"Thread One\"\n",
    ")\n",
    "threadTwo = assistant.Create_Thread(\n",
    "    threadName=\"Thread Two\"\n",
    ")\n",
    "threadThree = assistant.Create_Thread(\n",
    "    threadName=\"Thread Three\"\n",
    ")\n",
    "\n",
    "# Display threads\n",
    "print(\"Initial Threads\")\n",
    "Display_Threads()\n",
    "\n",
    "# Delete a thread\n",
    "assistant.Delete_Thread(\n",
    "    threadName=\"Thread Two\"\n",
    ")\n",
    "\n",
    "# Display threads\n",
    "print(\"After Deletion\")\n",
    "Display_Threads()\n",
    "\n",
    "# Change the name of the threads\n",
    "assistant.Update_Thread_Name(\n",
    "    threadName=\"Thread One\",\n",
    "    newThreadName=\"Budget\"\n",
    ")\n",
    "assistant.Update_Thread_Name(\n",
    "    threadName=\"Thread Three\",\n",
    "    newThreadName=\"Investments\"\n",
    ")\n",
    "\n",
    "# Display threads\n",
    "print(\"After Renaming\")\n",
    "Display_Threads()"
   ]
  },
  {
   "cell_type": "markdown",
   "metadata": {},
   "source": [
    "## Static Messages"
   ]
  },
  {
   "cell_type": "code",
   "execution_count": 6,
   "metadata": {},
   "outputs": [
    {
     "name": "stdout",
     "output_type": "stream",
     "text": [
      "User > What are 5 tips for saving money?\n",
      "\n",
      "Financial Assistant > Here are five effective tips for saving money:\n",
      "\n",
      "1. **Create a Budget**: Track your income and expenses to understand where your money goes. Set realistic monthly spending limits for different categories such as groceries, entertainment, and savings.\n",
      "\n",
      "2. **Automate Savings**: Set up automatic transfers from your checking account to your savings account. Treat your savings like a regular bill to ensure you save consistently each month.\n",
      "\n",
      "3. **Reduce Unnecessary Expenses**: Evaluate your spending habits and identify areas where you can cut back. This could include reducing dining out, canceling subscriptions you don’t use, or finding more affordable alternatives for regular purchases.\n",
      "\n",
      "4. **Take Advantage of Discounts and Coupons**: Look for discounts, use cashback apps, and utilize coupons when shopping. This can significantly lower your overall spending on everyday items.\n",
      "\n",
      "5. **Set Specific Savings Goals**: Having clear objectives, such as saving for a vacation, a new car, or an emergency fund, can motivate you to save more efficiently. Break down these goals into smaller, manageable milestones.\n",
      "\n",
      "Implementing these strategies can help you build a strong saving habit and improve your overall financial health.\n"
     ]
    }
   ],
   "source": [
    "# Take input from the user\n",
    "userInput: str = \"What are 5 tips for saving money?\"\n",
    "\n",
    "# Display the user's message\n",
    "print(f\"User > {userInput}\\n\")\n",
    "\n",
    "# Send the message to the assistant\n",
    "assistant.Create_Message(\n",
    "    threadName=\"Budget\",\n",
    "    textContent=userInput\n",
    ")\n",
    "\n",
    "# Display the assistant's response\n",
    "for message in assistant.Static_Response(threadName=\"Budget\"):\n",
    "    print(f\"{assistant.name} > {message}\")"
   ]
  },
  {
   "cell_type": "markdown",
   "metadata": {},
   "source": [
    "## Streaming Messages"
   ]
  },
  {
   "cell_type": "code",
   "execution_count": 7,
   "metadata": {},
   "outputs": [
    {
     "name": "stdout",
     "output_type": "stream",
     "text": [
      "User > What are 5 tips for investing money?\n",
      "\n",
      "Financial Assistant > Here are five tips for investing money wisely:\n",
      "\n",
      "1. **Start Early and Invest Regularly**: The earlier you start investing, the more time your money has to grow due to the power of compounding. Consider using dollar-cost averaging, which involves investing a fixed amount of money at regular intervals to reduce the impact of market volatility.\n",
      "\n",
      "2. **Diversify Your Portfolio**: Spread your investments across different asset classes (stocks, bonds, real estate, etc.) and sectors to minimize risk. Diversification helps protect your portfolio from significant losses if one sector performs poorly.\n",
      "\n",
      "3. **Set Clear Goals**: Define your investment goals, such as saving for retirement, buying a home, or financing education. Knowing your objectives will help you choose the right investment strategies and timeframes.\n",
      "\n",
      "4. **Educate Yourself**: Take the time to learn about investment options, market trends, and financial principles. The more informed you are, the better decisions you can make regarding your investments.\n",
      "\n",
      "5. **Avoid Emotional Investing**: Fear and greed can lead to poor investment decisions. Stick to your investment plan and avoid making impulsive decisions based on short-term market movements. Regularly review your portfolio but maintain discipline in your long-term strategy.\n",
      "\n",
      "By following these tips, you can build a solid foundation for your investment journey."
     ]
    }
   ],
   "source": [
    "# Take input from the user\n",
    "userInput: str = \"What are 5 tips for investing money?\"\n",
    "\n",
    "# Display the user's message\n",
    "print(f\"User > {userInput}\\n\")\n",
    "\n",
    "# Send the message to the assistant\n",
    "userMessage = assistant.Create_Message(\n",
    "    threadName=\"Investments\",\n",
    "    textContent=userInput\n",
    ")\n",
    "\n",
    "# The assistant's response will be streamed in real-time\n",
    "assistant.Stream_Response(\n",
    "    threadName=\"Investments\",\n",
    ")"
   ]
  },
  {
   "cell_type": "markdown",
   "metadata": {},
   "source": [
    "## Custom Stream Behavior"
   ]
  },
  {
   "cell_type": "code",
   "execution_count": 8,
   "metadata": {},
   "outputs": [
    {
     "name": "stdout",
     "output_type": "stream",
     "text": [
      "[Message Start]\n",
      "The S&P 500, or Standard & Poor's 500, is a stock market index that tracks the performance of 500 of the largest publicly traded companies in the United States. Here are some key points about the S&P 500:\n",
      "\n",
      "1. **Market Representation**: The S&P 500 is designed to be a representative benchmark of the overall U.S. stock market and includes companies across various sectors, such as technology, healthcare, financials, consumer goods, and more.\n",
      "\n",
      "2. **Weighting Method**: The index is weighted by market capitalization, meaning that larger companies have a greater influence on the index's overall performance. This helps to reflect the performance of the largest and typically most influential companies in the market.\n",
      "\n",
      "3. **Investment Tool**: The S&P 500 is commonly used by investors as a gauge of the market's overall performance and is often used as a benchmark against which mutual funds, ETFs, and individual stocks are compared.\n",
      "\n",
      "4. **Historical Performance**: Historically, the S&P 500 has shown robust long-term growth, making it a popular choice for passive investment strategies, particularly through index funds that aim to replicate its performance.\n",
      "\n",
      "5. **Economic Indicator**: As a broad measure of the U.S. economy, the performance of the S&P 500 is often interpreted as indicative of economic health, investor sentiment, and trends in corporate profitability.\n",
      "\n",
      "Overall, the S&P 500 is one of the most widely followed equity indices in the world and serves as a critical tool for investors looking to assess market trends and make informed investment decisions.\n",
      "[Message End]\n"
     ]
    }
   ],
   "source": [
    "# Import required libraries\n",
    "from Assistant2 import Stream_Handler\n",
    "from typing_extensions import override\n",
    "\n",
    "# Create a custom stream handler\n",
    "class Custom_Handler(Stream_Handler):\n",
    "    # Implement the super class\n",
    "    def __init__(self):\n",
    "        super().__init__(\n",
    "            client=client,\n",
    "            assistantName=assistant.name\n",
    "        )\n",
    "\n",
    "    @override\n",
    "    def on_text_created(self, text):\n",
    "        # Add a custom message at the start of every streamed response\n",
    "        print(f\"[Message Start]\\n\", end=\"\", flush=True)\n",
    "\n",
    "    @override\n",
    "    def on_text_done(self, text):\n",
    "        # Add a custom message at the end of every streamed response\n",
    "        print(\"\\n[Message End]\", end=\"\\n\", flush=True)\n",
    "\n",
    "# Send a message to the assistant\n",
    "userMessage = assistant.Create_Message(\n",
    "    threadName=\"Investments\",\n",
    "    textContent=\"What is the S&P 500?\"\n",
    ")\n",
    "\n",
    "# The assistant's response will be streamed with custom behaviors\n",
    "assistant.Stream_Response(\n",
    "    threadName=\"Investments\",\n",
    "    streamHandler=Custom_Handler()\n",
    ")"
   ]
  },
  {
   "cell_type": "markdown",
   "metadata": {},
   "source": [
    "## Attaching Files"
   ]
  },
  {
   "cell_type": "code",
   "execution_count": 10,
   "metadata": {},
   "outputs": [
    {
     "name": "stdout",
     "output_type": "stream",
     "text": [
      "\n",
      "Financial Assistant > Using the file search tool.\n",
      "Financial Assistant > In the most recent quarter, here are the financial results for Microsoft and CSX:\n",
      "\n",
      "### Microsoft\n",
      "- **Net Income**: $88.136 billion【12:10†source】.\n",
      "- **Shares Outstanding**: Approximately 7.469 billion shares (on a diluted basis)【12:9†source】.\n",
      "\n",
      "### CSX\n",
      "- **Net Income**: $3.715 billion【12:0†source】.\n",
      "- **Shares Outstanding**: Average common shares outstanding were approximately 2.008 billion【12:1†source】【12:11†source】.\n",
      "\n",
      "These figures provide a snapshot of each company's financial performance and share structure for the most recent quarter.\n",
      "Sources: ['[0] Example_File_Microsoft_10K.docx', '[1] Example_File_Microsoft_10K.docx', '[2] Example_File_CSX_10K.docx', '[3] Example_File_CSX_10K.docx', '[4] Example_File_CSX_10K.docx']\n"
     ]
    }
   ],
   "source": [
    "# Create a Vector Store\n",
    "from Assistant2 import Vector_Store\n",
    "vectorStore = Vector_Store(\n",
    "    client=client,\n",
    "    name=\"Company Reports\",\n",
    "    lifeTime=1\n",
    ")\n",
    "\n",
    "# Add a file to the vector store\n",
    "vectorStore.Add_File_By_Path(\n",
    "    fileName=\"MSFT-10K\",\n",
    "    filePath=\"Example_File_Microsoft_10K.docx\"\n",
    ")\n",
    "vectorStore.Add_File_By_Path(\n",
    "    fileName=\"CSX-10K\",\n",
    "    filePath=\"Example_File_CSX_10K.docx\"\n",
    ")\n",
    "\n",
    "# Attach the vector store a thread\n",
    "assistant.Link_Vector_Store(\n",
    "    threadName='Investments',\n",
    "    vectorStore=vectorStore\n",
    ")\n",
    "\n",
    "# User message\n",
    "assistant.Create_Message(\n",
    "    threadName='Investments',\n",
    "    textContent=\"What were Microsoft's and CSX's net income and shares outstanding in the most resent quarter?\"\n",
    ")\n",
    "\n",
    "# Stream response\n",
    "assistant.Stream_Response(\n",
    "    threadName='Investments',\n",
    ")"
   ]
  },
  {
   "cell_type": "markdown",
   "metadata": {},
   "source": [
    "## Function Calling\n",
    "\n",
    "```python\n",
    "def Funtion_Calling() -> None:\n",
    "    raise NotImplementedError\n",
    "```"
   ]
  },
  {
   "cell_type": "code",
   "execution_count": 11,
   "metadata": {},
   "outputs": [
    {
     "name": "stdout",
     "output_type": "stream",
     "text": [
      "True True True\n"
     ]
    }
   ],
   "source": [
    "# Delete the vector store\n",
    "fileStatus: bool = vectorStore.Delete_All_Files()\n",
    "vsStatus: bool = vectorStore.Delete_Vector_Store()\n",
    "\n",
    "# Delete the assistant\n",
    "astStatus: bool = assistant.Delete_Assistant()\n",
    "\n",
    "print(fileStatus, vsStatus, astStatus)"
   ]
  }
 ],
 "metadata": {
  "kernelspec": {
   "display_name": ".venv",
   "language": "python",
   "name": "python3"
  },
  "language_info": {
   "codemirror_mode": {
    "name": "ipython",
    "version": 3
   },
   "file_extension": ".py",
   "mimetype": "text/x-python",
   "name": "python",
   "nbconvert_exporter": "python",
   "pygments_lexer": "ipython3",
   "version": "3.12.7"
  }
 },
 "nbformat": 4,
 "nbformat_minor": 2
}
