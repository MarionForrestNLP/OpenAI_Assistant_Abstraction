{
 "cells": [
  {
   "cell_type": "code",
   "execution_count": 1,
   "metadata": {},
   "outputs": [],
   "source": [
    "from openai import OpenAI\n",
    "client = OpenAI(api_key=\"\")"
   ]
  },
  {
   "cell_type": "markdown",
   "metadata": {},
   "source": [
    "## Create an Assistant"
   ]
  },
  {
   "cell_type": "code",
   "execution_count": 2,
   "metadata": {},
   "outputs": [
    {
     "data": {
      "text/plain": [
       "Assistant(id='asst_BEawCFPHNo8klP8ZTv2flcH0', created_at=1729885507, description=None, instructions='You are a simple chat bot.', metadata={}, model='gpt-3.5-turbo-0125', name='Assistant', object='assistant', tools=[], response_format='auto', temperature=1.0, tool_resources=ToolResources(code_interpreter=None, file_search=None), top_p=1.0)"
      ]
     },
     "execution_count": 2,
     "metadata": {},
     "output_type": "execute_result"
    }
   ],
   "source": [
    "from Assistant2 import Assistant_V2\n",
    "from Assistant2 import LanguageModel # Import the LanguageModel enum\n",
    "\n",
    "assistant = Assistant_V2(\n",
    "    client=client,\n",
    "    name=\"Assistant\",\n",
    "    instructionPrompt=\"You are a simple chat bot.\",\n",
    "    languageModel=LanguageModel.GPT_3_5_TURBO\n",
    ")\n",
    "\n",
    "assistant.Retrieve_Assistant()"
   ]
  },
  {
   "cell_type": "markdown",
   "metadata": {},
   "source": [
    "## Modify an Assistant"
   ]
  },
  {
   "cell_type": "code",
   "execution_count": 3,
   "metadata": {},
   "outputs": [
    {
     "name": "stdout",
     "output_type": "stream",
     "text": [
      "Name: Assistant -> New Name\n",
      "\n",
      "Instruction Prompt: You are a simple chat bot. -> New Instruction Prompt\n",
      "\n",
      "Language Model: gpt-3.5-turbo-0125 -> gpt-4o-mini\n"
     ]
    }
   ],
   "source": [
    "nameBefore = assistant.name\n",
    "promptBefore = assistant.instructionPrompt\n",
    "modelBefore = assistant.languageModel.value\n",
    "\n",
    "# Change the name of the assistant\n",
    "assistant.Update_Assistant_Name(\n",
    "    name=\"New Name\"\n",
    ")\n",
    "\n",
    "# Change the instruction prompt of the assistant\n",
    "assistant.Update_Assistant_Instruction_Prompt(\n",
    "    instructionPrompt=\"New Instruction Prompt\"\n",
    ")\n",
    "\n",
    "# Change the language model of the assistant\n",
    "assistant.Update_Assistant_Language_Model(\n",
    "    languageModel=LanguageModel.GPT_4O_MINI\n",
    ")\n",
    "\n",
    "# Display changes\n",
    "print(f\"Name: {nameBefore} -> {assistant.name}\\n\")\n",
    "\n",
    "print(f\"Instruction Prompt: {promptBefore} -> {assistant.instructionPrompt}\\n\")\n",
    "\n",
    "print(f\"Language Model: {modelBefore} -> {assistant.languageModel.value}\")"
   ]
  },
  {
   "cell_type": "markdown",
   "metadata": {},
   "source": [
    "## Create Threads"
   ]
  },
  {
   "cell_type": "code",
   "execution_count": 4,
   "metadata": {},
   "outputs": [
    {
     "name": "stdout",
     "output_type": "stream",
     "text": [
      "Initial Threads\n",
      "Thread One: Thread(id='thread_bwjlNT4vvXnfE7SK0ZG8Kkj4', created_at=1729885508, metadata={}, object='thread', tool_resources=ToolResources(code_interpreter=ToolResourcesCodeInterpreter(file_ids=[]), file_search=None))\n",
      "Thread Two: Thread(id='thread_27xZP8IVti0QT5WNZ8J03F72', created_at=1729885508, metadata={}, object='thread', tool_resources=ToolResources(code_interpreter=ToolResourcesCodeInterpreter(file_ids=[]), file_search=None))\n",
      "Thread Three: Thread(id='thread_rL4O3W1asuhT5JMLoJwV5cKL', created_at=1729885508, metadata={}, object='thread', tool_resources=ToolResources(code_interpreter=ToolResourcesCodeInterpreter(file_ids=[]), file_search=None))\n",
      "\n",
      "After deletion\n",
      "Thread One: Thread(id='thread_bwjlNT4vvXnfE7SK0ZG8Kkj4', created_at=1729885508, metadata={}, object='thread', tool_resources=ToolResources(code_interpreter=ToolResourcesCodeInterpreter(file_ids=[]), file_search=None))\n",
      "Thread Three: Thread(id='thread_rL4O3W1asuhT5JMLoJwV5cKL', created_at=1729885508, metadata={}, object='thread', tool_resources=ToolResources(code_interpreter=ToolResourcesCodeInterpreter(file_ids=[]), file_search=None))\n",
      "\n",
      "After renaming\n",
      "Budget: Thread(id='thread_bwjlNT4vvXnfE7SK0ZG8Kkj4', created_at=1729885508, metadata={}, object='thread', tool_resources=ToolResources(code_interpreter=ToolResourcesCodeInterpreter(file_ids=[]), file_search=None))\n",
      "Investments: Thread(id='thread_rL4O3W1asuhT5JMLoJwV5cKL', created_at=1729885508, metadata={}, object='thread', tool_resources=ToolResources(code_interpreter=ToolResourcesCodeInterpreter(file_ids=[]), file_search=None))\n",
      "\n"
     ]
    }
   ],
   "source": [
    "def Display_Threads() -> None:\n",
    "    for name, id in assistant.threads.items():\n",
    "        print(f\"{name}: {assistant.Retrieve_Thread(id)}\")\n",
    "    print()\n",
    "\n",
    "# Create threads\n",
    "threadOne = assistant.Create_Thread(\n",
    "    threadName=\"Thread One\"\n",
    ")\n",
    "threadTwo = assistant.Create_Thread(\n",
    "    threadName=\"Thread Two\"\n",
    ")\n",
    "threadThree = assistant.Create_Thread(\n",
    "    threadName=\"Thread Three\"\n",
    ")\n",
    "\n",
    "# Display threads\n",
    "print(\"Initial Threads\")\n",
    "Display_Threads()\n",
    "\n",
    "# Delete a thread\n",
    "assistant.Delete_Thread(\n",
    "    threadName=\"Thread Two\"\n",
    ")\n",
    "\n",
    "# Display threads\n",
    "print(\"After deletion\")\n",
    "Display_Threads()\n",
    "\n",
    "# Change the name of the threads\n",
    "assistant.Update_Thread_Name(\n",
    "    threadName=\"Thread One\",\n",
    "    newThreadName=\"Budget\"\n",
    ")\n",
    "assistant.Update_Thread_Name(\n",
    "    threadName=\"Thread Three\",\n",
    "    newThreadName=\"Investments\"\n",
    ")\n",
    "\n",
    "# Display threads\n",
    "print(\"After renaming\")\n",
    "Display_Threads()"
   ]
  },
  {
   "cell_type": "markdown",
   "metadata": {},
   "source": [
    "## Static Messages"
   ]
  },
  {
   "cell_type": "code",
   "execution_count": 5,
   "metadata": {},
   "outputs": [
    {
     "name": "stdout",
     "output_type": "stream",
     "text": [
      "User > What are 5 tips for saving money?\n",
      "\n",
      "Assistant > Here are five effective tips for saving money:\n",
      "\n",
      "1. **Create a Budget**: Track your income and expenses to understand where your money goes. Allocate specific amounts for necessities, savings, and discretionary spending. Stick to the budget to avoid overspending.\n",
      "\n",
      "2. **Automate Savings**: Set up automatic transfers from your checking account to a savings account. This way, you save money without thinking about it. Aim to save a percentage of your income each month.\n",
      "\n",
      "3. **Cut Unnecessary Expenses**: Review your subscription services (like streaming, gym memberships, etc.) and cancel any that you don’t frequently use. Look for alternatives, such as cooking at home instead of dining out.\n",
      "\n",
      "4. **Use Cash for Discretionary Spending**: Withdraw a set amount of cash for non-essential expenses for the month. This can help limit your spending, as using cash can make you more conscious of how much you're spending compared to using cards.\n",
      "\n",
      "5. **Take Advantage of Discounts and Coupons**: Look for sales, utilize loyalty programs, and find coupons or discount codes before making purchases. Even small savings from everyday buys can add up over time.\n",
      "\n",
      "By implementing these strategies, you can build your savings more effectively.\n"
     ]
    }
   ],
   "source": [
    "# Take input from the user\n",
    "userInput: str = \"What are 5 tips for saving money?\"\n",
    "\n",
    "# Display the user's message\n",
    "print(f\"User > {userInput}\\n\")\n",
    "\n",
    "# Send the message to the assistant\n",
    "assistant.Create_Message(\n",
    "    threadName=\"Budget\",\n",
    "    textContent=userInput\n",
    ")\n",
    "\n",
    "# Display the assistant's response\n",
    "for message in assistant.Static_Response(threadName=\"Budget\"):\n",
    "    print(f\"Assistant > {message}\")"
   ]
  },
  {
   "cell_type": "markdown",
   "metadata": {},
   "source": [
    "## Streaming Messages"
   ]
  },
  {
   "cell_type": "code",
   "execution_count": 7,
   "metadata": {},
   "outputs": [
    {
     "name": "stdout",
     "output_type": "stream",
     "text": [
      "User > What are 5 tips for investing money?\n",
      "\n",
      "Assistant > Here are five tips for investing money effectively:\n",
      "\n",
      "1. **Set Clear Financial Goals**: Before you invest, define your financial objectives. Are you saving for retirement, a house, or education? Setting specific goals will help determine your investment strategy and time horizon.\n",
      "\n",
      "2. **Diversify Your Portfolio**: Spread your investments across different asset classes (stocks, bonds, real estate) and sectors to reduce risk. Diversification helps mitigate losses because different assets often perform differently in varying market conditions.\n",
      "\n",
      "3. **Understand Your Risk Tolerance**: Assess your willingness and ability to take risks. Younger investors may afford to take more risks, while those nearing retirement might prefer more stable, lower-risk investments. Choose investments that align with your risk tolerance.\n",
      "\n",
      "4. **Stay Informed and Educated**: Keep learning about market trends, economic factors, and investment strategies. This knowledge will empower you to make informed decisions and adapt your strategy as needed.\n",
      "\n",
      "5. **Be Patient and Think Long-Term**: Investing is often a long-term endeavor. Resist the urge to react impulsively to market fluctuations. Stay focused on your goals, and remember that compounding interest can significantly increase your returns over time. \n",
      "\n",
      "By following these tips, you can build a solid foundation for your investment journey."
     ]
    }
   ],
   "source": [
    "# Take input from the user\n",
    "userInput: str = \"What are 5 tips for investing money?\"\n",
    "\n",
    "# Display the user's message\n",
    "print(f\"User > {userInput}\\n\")\n",
    "\n",
    "# Send the message to the assistant\n",
    "userMessage = assistant.Create_Message(\n",
    "    threadName=\"Investments\",\n",
    "    textContent=userInput\n",
    ")\n",
    "\n",
    "# The assistant's response will be streamed in real-time\n",
    "assistant.Stream_Response(\n",
    "    threadName=\"Investments\",\n",
    ")"
   ]
  },
  {
   "cell_type": "code",
   "execution_count": 9,
   "metadata": {},
   "outputs": [
    {
     "data": {
      "text/plain": [
       "True"
      ]
     },
     "execution_count": 9,
     "metadata": {},
     "output_type": "execute_result"
    }
   ],
   "source": [
    "assistant.Delete_Assistant()"
   ]
  }
 ],
 "metadata": {
  "kernelspec": {
   "display_name": ".venv",
   "language": "python",
   "name": "python3"
  },
  "language_info": {
   "codemirror_mode": {
    "name": "ipython",
    "version": 3
   },
   "file_extension": ".py",
   "mimetype": "text/x-python",
   "name": "python",
   "nbconvert_exporter": "python",
   "pygments_lexer": "ipython3",
   "version": "3.12.7"
  }
 },
 "nbformat": 4,
 "nbformat_minor": 2
}
